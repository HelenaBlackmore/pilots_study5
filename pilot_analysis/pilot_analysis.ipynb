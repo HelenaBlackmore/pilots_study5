{
 "cells": [
  {
   "cell_type": "code",
   "execution_count": 82,
   "metadata": {
    "slideshow": {
     "slide_type": "skip"
    }
   },
   "outputs": [
    {
     "name": "stderr",
     "output_type": "stream",
     "text": [
      "[NbConvertApp] Converting notebook pilot_analysis.ipynb to slides\n",
      "[NbConvertApp] Writing 467752 bytes to pilot_analysis.slides.html\n",
      "[NbConvertApp] Redirecting reveal.js requests to https://cdnjs.cloudflare.com/ajax/libs/reveal.js/3.5.0\n",
      "Traceback (most recent call last):\n",
      "  File \"C:\\Users\\Helena\\Anaconda3\\Scripts\\jupyter-nbconvert-script.py\", line 10, in <module>\n",
      "    sys.exit(main())\n",
      "  File \"C:\\Users\\Helena\\Anaconda3\\lib\\site-packages\\jupyter_core\\application.py\", line 254, in launch_instance\n",
      "    return super(JupyterApp, cls).launch_instance(argv=argv, **kwargs)\n",
      "  File \"C:\\Users\\Helena\\Anaconda3\\lib\\site-packages\\traitlets\\config\\application.py\", line 658, in launch_instance\n",
      "    app.start()\n",
      "  File \"C:\\Users\\Helena\\Anaconda3\\lib\\site-packages\\nbconvert\\nbconvertapp.py\", line 337, in start\n",
      "    self.convert_notebooks()\n",
      "  File \"C:\\Users\\Helena\\Anaconda3\\lib\\site-packages\\nbconvert\\nbconvertapp.py\", line 507, in convert_notebooks\n",
      "    self.convert_single_notebook(notebook_filename)\n",
      "  File \"C:\\Users\\Helena\\Anaconda3\\lib\\site-packages\\nbconvert\\nbconvertapp.py\", line 480, in convert_single_notebook\n",
      "    self.postprocess_single_notebook(write_results)\n",
      "  File \"C:\\Users\\Helena\\Anaconda3\\lib\\site-packages\\nbconvert\\nbconvertapp.py\", line 452, in postprocess_single_notebook\n",
      "    self.postprocessor(write_results)\n",
      "  File \"C:\\Users\\Helena\\Anaconda3\\lib\\site-packages\\nbconvert\\postprocessors\\base.py\", line 28, in __call__\n",
      "    self.postprocess(input)\n",
      "  File \"C:\\Users\\Helena\\Anaconda3\\lib\\site-packages\\nbconvert\\postprocessors\\serve.py\", line 90, in postprocess\n",
      "    http_server.listen(self.port, address=self.ip)\n",
      "  File \"C:\\Users\\Helena\\Anaconda3\\lib\\site-packages\\tornado\\tcpserver.py\", line 151, in listen\n",
      "    sockets = bind_sockets(port, address=address)\n",
      "  File \"C:\\Users\\Helena\\Anaconda3\\lib\\site-packages\\tornado\\netutil.py\", line 161, in bind_sockets\n",
      "    sock.bind(sockaddr)\n",
      "OSError: [WinError 10048] Only one usage of each socket address (protocol/network address/port) is normally permitted\n"
     ]
    }
   ],
   "source": [
    "!jupyter nbconvert pilot_analysis.ipynb --to slides --no-input --post serve\n",
    "\n",
    "#note struggle to display md images, plotly table and pd summary (in a slide fragment)\n",
    "    "
   ]
  },
  {
   "cell_type": "markdown",
   "metadata": {
    "slideshow": {
     "slide_type": "slide"
    }
   },
   "source": [
    "# study 5:\n",
    "## pilot\n",
    "### Helena Blackmore\n",
    "\n",
    "#### April 2021"
   ]
  },
  {
   "cell_type": "markdown",
   "metadata": {
    "slideshow": {
     "slide_type": "slide"
    }
   },
   "source": [
    "### summary"
   ]
  },
  {
   "cell_type": "code",
   "execution_count": 41,
   "metadata": {
    "slideshow": {
     "slide_type": "skip"
    }
   },
   "outputs": [
    {
     "name": "stdout",
     "output_type": "stream",
     "text": [
      "<module 'plotly.version' from 'C:\\\\Users\\\\Helena\\\\Anaconda3\\\\lib\\\\site-packages\\\\plotly\\\\version.py'>\n"
     ]
    },
    {
     "data": {
      "text/html": [
       "        <script type=\"text/javascript\">\n",
       "        window.PlotlyConfig = {MathJaxConfig: 'local'};\n",
       "        if (window.MathJax) {MathJax.Hub.Config({SVG: {font: \"STIX-Web\"}});}\n",
       "        if (typeof require !== 'undefined') {\n",
       "        require.undef(\"plotly\");\n",
       "        requirejs.config({\n",
       "            paths: {\n",
       "                'plotly': ['https://cdn.plot.ly/plotly-latest.min']\n",
       "            }\n",
       "        });\n",
       "        require(['plotly'], function(Plotly) {\n",
       "            window._Plotly = Plotly;\n",
       "        });\n",
       "        }\n",
       "        </script>\n",
       "        "
      ]
     },
     "metadata": {},
     "output_type": "display_data"
    }
   ],
   "source": [
    "import plotly\n",
    "from plotly import version\n",
    "print (version)\n",
    "from plotly.offline import download_plotlyjs, init_notebook_mode, plot, iplot\n",
    "init_notebook_mode(connected=True)\n",
    "\n",
    "import plotly.graph_objects as go"
   ]
  },
  {
   "cell_type": "code",
   "execution_count": 42,
   "metadata": {
    "slideshow": {
     "slide_type": "fragment"
    },
    "tags": [
     "hide-input"
    ]
   },
   "outputs": [
    {
     "data": {
      "application/vnd.plotly.v1+json": {
       "config": {
        "plotlyServerURL": "https://plot.ly"
       },
       "data": [
        {
         "cells": {
          "values": [
           [
            "participants",
            "%",
            "\"right choice\" \n(last trial) ",
            "%"
           ],
           [
            25,
            75.8,
            11,
            44
           ],
           [
            8,
            24.2,
            4,
            50
           ],
           [
            33,
            100,
            15,
            45.5
           ]
          ]
         },
         "header": {
          "fill": {
           "color": "lightskyblue"
          },
          "line": {
           "color": "aliceblue"
          },
          "values": [
           "",
           "prefer beer",
           "prefer NA",
           "total"
          ]
         },
         "type": "table"
        }
       ],
       "layout": {
        "template": {
         "data": {
          "bar": [
           {
            "error_x": {
             "color": "#2a3f5f"
            },
            "error_y": {
             "color": "#2a3f5f"
            },
            "marker": {
             "line": {
              "color": "#E5ECF6",
              "width": 0.5
             }
            },
            "type": "bar"
           }
          ],
          "barpolar": [
           {
            "marker": {
             "line": {
              "color": "#E5ECF6",
              "width": 0.5
             }
            },
            "type": "barpolar"
           }
          ],
          "carpet": [
           {
            "aaxis": {
             "endlinecolor": "#2a3f5f",
             "gridcolor": "white",
             "linecolor": "white",
             "minorgridcolor": "white",
             "startlinecolor": "#2a3f5f"
            },
            "baxis": {
             "endlinecolor": "#2a3f5f",
             "gridcolor": "white",
             "linecolor": "white",
             "minorgridcolor": "white",
             "startlinecolor": "#2a3f5f"
            },
            "type": "carpet"
           }
          ],
          "choropleth": [
           {
            "colorbar": {
             "outlinewidth": 0,
             "ticks": ""
            },
            "type": "choropleth"
           }
          ],
          "contour": [
           {
            "colorbar": {
             "outlinewidth": 0,
             "ticks": ""
            },
            "colorscale": [
             [
              0,
              "#0d0887"
             ],
             [
              0.1111111111111111,
              "#46039f"
             ],
             [
              0.2222222222222222,
              "#7201a8"
             ],
             [
              0.3333333333333333,
              "#9c179e"
             ],
             [
              0.4444444444444444,
              "#bd3786"
             ],
             [
              0.5555555555555556,
              "#d8576b"
             ],
             [
              0.6666666666666666,
              "#ed7953"
             ],
             [
              0.7777777777777778,
              "#fb9f3a"
             ],
             [
              0.8888888888888888,
              "#fdca26"
             ],
             [
              1,
              "#f0f921"
             ]
            ],
            "type": "contour"
           }
          ],
          "contourcarpet": [
           {
            "colorbar": {
             "outlinewidth": 0,
             "ticks": ""
            },
            "type": "contourcarpet"
           }
          ],
          "heatmap": [
           {
            "colorbar": {
             "outlinewidth": 0,
             "ticks": ""
            },
            "colorscale": [
             [
              0,
              "#0d0887"
             ],
             [
              0.1111111111111111,
              "#46039f"
             ],
             [
              0.2222222222222222,
              "#7201a8"
             ],
             [
              0.3333333333333333,
              "#9c179e"
             ],
             [
              0.4444444444444444,
              "#bd3786"
             ],
             [
              0.5555555555555556,
              "#d8576b"
             ],
             [
              0.6666666666666666,
              "#ed7953"
             ],
             [
              0.7777777777777778,
              "#fb9f3a"
             ],
             [
              0.8888888888888888,
              "#fdca26"
             ],
             [
              1,
              "#f0f921"
             ]
            ],
            "type": "heatmap"
           }
          ],
          "heatmapgl": [
           {
            "colorbar": {
             "outlinewidth": 0,
             "ticks": ""
            },
            "colorscale": [
             [
              0,
              "#0d0887"
             ],
             [
              0.1111111111111111,
              "#46039f"
             ],
             [
              0.2222222222222222,
              "#7201a8"
             ],
             [
              0.3333333333333333,
              "#9c179e"
             ],
             [
              0.4444444444444444,
              "#bd3786"
             ],
             [
              0.5555555555555556,
              "#d8576b"
             ],
             [
              0.6666666666666666,
              "#ed7953"
             ],
             [
              0.7777777777777778,
              "#fb9f3a"
             ],
             [
              0.8888888888888888,
              "#fdca26"
             ],
             [
              1,
              "#f0f921"
             ]
            ],
            "type": "heatmapgl"
           }
          ],
          "histogram": [
           {
            "marker": {
             "colorbar": {
              "outlinewidth": 0,
              "ticks": ""
             }
            },
            "type": "histogram"
           }
          ],
          "histogram2d": [
           {
            "colorbar": {
             "outlinewidth": 0,
             "ticks": ""
            },
            "colorscale": [
             [
              0,
              "#0d0887"
             ],
             [
              0.1111111111111111,
              "#46039f"
             ],
             [
              0.2222222222222222,
              "#7201a8"
             ],
             [
              0.3333333333333333,
              "#9c179e"
             ],
             [
              0.4444444444444444,
              "#bd3786"
             ],
             [
              0.5555555555555556,
              "#d8576b"
             ],
             [
              0.6666666666666666,
              "#ed7953"
             ],
             [
              0.7777777777777778,
              "#fb9f3a"
             ],
             [
              0.8888888888888888,
              "#fdca26"
             ],
             [
              1,
              "#f0f921"
             ]
            ],
            "type": "histogram2d"
           }
          ],
          "histogram2dcontour": [
           {
            "colorbar": {
             "outlinewidth": 0,
             "ticks": ""
            },
            "colorscale": [
             [
              0,
              "#0d0887"
             ],
             [
              0.1111111111111111,
              "#46039f"
             ],
             [
              0.2222222222222222,
              "#7201a8"
             ],
             [
              0.3333333333333333,
              "#9c179e"
             ],
             [
              0.4444444444444444,
              "#bd3786"
             ],
             [
              0.5555555555555556,
              "#d8576b"
             ],
             [
              0.6666666666666666,
              "#ed7953"
             ],
             [
              0.7777777777777778,
              "#fb9f3a"
             ],
             [
              0.8888888888888888,
              "#fdca26"
             ],
             [
              1,
              "#f0f921"
             ]
            ],
            "type": "histogram2dcontour"
           }
          ],
          "mesh3d": [
           {
            "colorbar": {
             "outlinewidth": 0,
             "ticks": ""
            },
            "type": "mesh3d"
           }
          ],
          "parcoords": [
           {
            "line": {
             "colorbar": {
              "outlinewidth": 0,
              "ticks": ""
             }
            },
            "type": "parcoords"
           }
          ],
          "pie": [
           {
            "automargin": true,
            "type": "pie"
           }
          ],
          "scatter": [
           {
            "marker": {
             "colorbar": {
              "outlinewidth": 0,
              "ticks": ""
             }
            },
            "type": "scatter"
           }
          ],
          "scatter3d": [
           {
            "line": {
             "colorbar": {
              "outlinewidth": 0,
              "ticks": ""
             }
            },
            "marker": {
             "colorbar": {
              "outlinewidth": 0,
              "ticks": ""
             }
            },
            "type": "scatter3d"
           }
          ],
          "scattercarpet": [
           {
            "marker": {
             "colorbar": {
              "outlinewidth": 0,
              "ticks": ""
             }
            },
            "type": "scattercarpet"
           }
          ],
          "scattergeo": [
           {
            "marker": {
             "colorbar": {
              "outlinewidth": 0,
              "ticks": ""
             }
            },
            "type": "scattergeo"
           }
          ],
          "scattergl": [
           {
            "marker": {
             "colorbar": {
              "outlinewidth": 0,
              "ticks": ""
             }
            },
            "type": "scattergl"
           }
          ],
          "scattermapbox": [
           {
            "marker": {
             "colorbar": {
              "outlinewidth": 0,
              "ticks": ""
             }
            },
            "type": "scattermapbox"
           }
          ],
          "scatterpolar": [
           {
            "marker": {
             "colorbar": {
              "outlinewidth": 0,
              "ticks": ""
             }
            },
            "type": "scatterpolar"
           }
          ],
          "scatterpolargl": [
           {
            "marker": {
             "colorbar": {
              "outlinewidth": 0,
              "ticks": ""
             }
            },
            "type": "scatterpolargl"
           }
          ],
          "scatterternary": [
           {
            "marker": {
             "colorbar": {
              "outlinewidth": 0,
              "ticks": ""
             }
            },
            "type": "scatterternary"
           }
          ],
          "surface": [
           {
            "colorbar": {
             "outlinewidth": 0,
             "ticks": ""
            },
            "colorscale": [
             [
              0,
              "#0d0887"
             ],
             [
              0.1111111111111111,
              "#46039f"
             ],
             [
              0.2222222222222222,
              "#7201a8"
             ],
             [
              0.3333333333333333,
              "#9c179e"
             ],
             [
              0.4444444444444444,
              "#bd3786"
             ],
             [
              0.5555555555555556,
              "#d8576b"
             ],
             [
              0.6666666666666666,
              "#ed7953"
             ],
             [
              0.7777777777777778,
              "#fb9f3a"
             ],
             [
              0.8888888888888888,
              "#fdca26"
             ],
             [
              1,
              "#f0f921"
             ]
            ],
            "type": "surface"
           }
          ],
          "table": [
           {
            "cells": {
             "fill": {
              "color": "#EBF0F8"
             },
             "line": {
              "color": "white"
             }
            },
            "header": {
             "fill": {
              "color": "#C8D4E3"
             },
             "line": {
              "color": "white"
             }
            },
            "type": "table"
           }
          ]
         },
         "layout": {
          "annotationdefaults": {
           "arrowcolor": "#2a3f5f",
           "arrowhead": 0,
           "arrowwidth": 1
          },
          "autotypenumbers": "strict",
          "coloraxis": {
           "colorbar": {
            "outlinewidth": 0,
            "ticks": ""
           }
          },
          "colorscale": {
           "diverging": [
            [
             0,
             "#8e0152"
            ],
            [
             0.1,
             "#c51b7d"
            ],
            [
             0.2,
             "#de77ae"
            ],
            [
             0.3,
             "#f1b6da"
            ],
            [
             0.4,
             "#fde0ef"
            ],
            [
             0.5,
             "#f7f7f7"
            ],
            [
             0.6,
             "#e6f5d0"
            ],
            [
             0.7,
             "#b8e186"
            ],
            [
             0.8,
             "#7fbc41"
            ],
            [
             0.9,
             "#4d9221"
            ],
            [
             1,
             "#276419"
            ]
           ],
           "sequential": [
            [
             0,
             "#0d0887"
            ],
            [
             0.1111111111111111,
             "#46039f"
            ],
            [
             0.2222222222222222,
             "#7201a8"
            ],
            [
             0.3333333333333333,
             "#9c179e"
            ],
            [
             0.4444444444444444,
             "#bd3786"
            ],
            [
             0.5555555555555556,
             "#d8576b"
            ],
            [
             0.6666666666666666,
             "#ed7953"
            ],
            [
             0.7777777777777778,
             "#fb9f3a"
            ],
            [
             0.8888888888888888,
             "#fdca26"
            ],
            [
             1,
             "#f0f921"
            ]
           ],
           "sequentialminus": [
            [
             0,
             "#0d0887"
            ],
            [
             0.1111111111111111,
             "#46039f"
            ],
            [
             0.2222222222222222,
             "#7201a8"
            ],
            [
             0.3333333333333333,
             "#9c179e"
            ],
            [
             0.4444444444444444,
             "#bd3786"
            ],
            [
             0.5555555555555556,
             "#d8576b"
            ],
            [
             0.6666666666666666,
             "#ed7953"
            ],
            [
             0.7777777777777778,
             "#fb9f3a"
            ],
            [
             0.8888888888888888,
             "#fdca26"
            ],
            [
             1,
             "#f0f921"
            ]
           ]
          },
          "colorway": [
           "#636efa",
           "#EF553B",
           "#00cc96",
           "#ab63fa",
           "#FFA15A",
           "#19d3f3",
           "#FF6692",
           "#B6E880",
           "#FF97FF",
           "#FECB52"
          ],
          "font": {
           "color": "#2a3f5f"
          },
          "geo": {
           "bgcolor": "white",
           "lakecolor": "white",
           "landcolor": "#E5ECF6",
           "showlakes": true,
           "showland": true,
           "subunitcolor": "white"
          },
          "hoverlabel": {
           "align": "left"
          },
          "hovermode": "closest",
          "mapbox": {
           "style": "light"
          },
          "paper_bgcolor": "white",
          "plot_bgcolor": "#E5ECF6",
          "polar": {
           "angularaxis": {
            "gridcolor": "white",
            "linecolor": "white",
            "ticks": ""
           },
           "bgcolor": "#E5ECF6",
           "radialaxis": {
            "gridcolor": "white",
            "linecolor": "white",
            "ticks": ""
           }
          },
          "scene": {
           "xaxis": {
            "backgroundcolor": "#E5ECF6",
            "gridcolor": "white",
            "gridwidth": 2,
            "linecolor": "white",
            "showbackground": true,
            "ticks": "",
            "zerolinecolor": "white"
           },
           "yaxis": {
            "backgroundcolor": "#E5ECF6",
            "gridcolor": "white",
            "gridwidth": 2,
            "linecolor": "white",
            "showbackground": true,
            "ticks": "",
            "zerolinecolor": "white"
           },
           "zaxis": {
            "backgroundcolor": "#E5ECF6",
            "gridcolor": "white",
            "gridwidth": 2,
            "linecolor": "white",
            "showbackground": true,
            "ticks": "",
            "zerolinecolor": "white"
           }
          },
          "shapedefaults": {
           "line": {
            "color": "#2a3f5f"
           }
          },
          "ternary": {
           "aaxis": {
            "gridcolor": "white",
            "linecolor": "white",
            "ticks": ""
           },
           "baxis": {
            "gridcolor": "white",
            "linecolor": "white",
            "ticks": ""
           },
           "bgcolor": "#E5ECF6",
           "caxis": {
            "gridcolor": "white",
            "linecolor": "white",
            "ticks": ""
           }
          },
          "title": {
           "x": 0.05
          },
          "xaxis": {
           "automargin": true,
           "gridcolor": "white",
           "linecolor": "white",
           "ticks": "",
           "title": {
            "standoff": 15
           },
           "zerolinecolor": "white",
           "zerolinewidth": 2
          },
          "yaxis": {
           "automargin": true,
           "gridcolor": "white",
           "linecolor": "white",
           "ticks": "",
           "title": {
            "standoff": 15
           },
           "zerolinecolor": "white",
           "zerolinewidth": 2
          }
         }
        }
       }
      },
      "text/html": [
       "<div>                            <div id=\"3f15d2a3-b0d5-4129-8a86-445b5dd59ea2\" class=\"plotly-graph-div\" style=\"height:525px; width:100%;\"></div>            <script type=\"text/javascript\">                require([\"plotly\"], function(Plotly) {                    window.PLOTLYENV=window.PLOTLYENV || {};                                    if (document.getElementById(\"3f15d2a3-b0d5-4129-8a86-445b5dd59ea2\")) {                    Plotly.newPlot(                        \"3f15d2a3-b0d5-4129-8a86-445b5dd59ea2\",                        [{\"cells\": {\"values\": [[\"participants\", \"%\", \"\\\"right choice\\\" \\n(last trial) \", \"%\"], [25, 75.8, 11, 44.0], [8, 24.2, 4, 50.0], [33, 100, 15, 45.5]]}, \"header\": {\"fill\": {\"color\": \"lightskyblue\"}, \"line\": {\"color\": \"aliceblue\"}, \"values\": [\"\", \"prefer beer\", \"prefer NA\", \"total\"]}, \"type\": \"table\"}],                        {\"template\": {\"data\": {\"bar\": [{\"error_x\": {\"color\": \"#2a3f5f\"}, \"error_y\": {\"color\": \"#2a3f5f\"}, \"marker\": {\"line\": {\"color\": \"#E5ECF6\", \"width\": 0.5}}, \"type\": \"bar\"}], \"barpolar\": [{\"marker\": {\"line\": {\"color\": \"#E5ECF6\", \"width\": 0.5}}, \"type\": \"barpolar\"}], \"carpet\": [{\"aaxis\": {\"endlinecolor\": \"#2a3f5f\", \"gridcolor\": \"white\", \"linecolor\": \"white\", \"minorgridcolor\": \"white\", \"startlinecolor\": \"#2a3f5f\"}, \"baxis\": {\"endlinecolor\": \"#2a3f5f\", \"gridcolor\": \"white\", \"linecolor\": \"white\", \"minorgridcolor\": \"white\", \"startlinecolor\": \"#2a3f5f\"}, \"type\": \"carpet\"}], \"choropleth\": [{\"colorbar\": {\"outlinewidth\": 0, \"ticks\": \"\"}, \"type\": \"choropleth\"}], \"contour\": [{\"colorbar\": {\"outlinewidth\": 0, \"ticks\": \"\"}, \"colorscale\": [[0.0, \"#0d0887\"], [0.1111111111111111, \"#46039f\"], [0.2222222222222222, \"#7201a8\"], [0.3333333333333333, \"#9c179e\"], [0.4444444444444444, \"#bd3786\"], [0.5555555555555556, \"#d8576b\"], [0.6666666666666666, \"#ed7953\"], [0.7777777777777778, \"#fb9f3a\"], [0.8888888888888888, \"#fdca26\"], [1.0, \"#f0f921\"]], \"type\": \"contour\"}], \"contourcarpet\": [{\"colorbar\": {\"outlinewidth\": 0, \"ticks\": \"\"}, \"type\": \"contourcarpet\"}], \"heatmap\": [{\"colorbar\": {\"outlinewidth\": 0, \"ticks\": \"\"}, \"colorscale\": [[0.0, \"#0d0887\"], [0.1111111111111111, \"#46039f\"], [0.2222222222222222, \"#7201a8\"], [0.3333333333333333, \"#9c179e\"], [0.4444444444444444, \"#bd3786\"], [0.5555555555555556, \"#d8576b\"], [0.6666666666666666, \"#ed7953\"], [0.7777777777777778, \"#fb9f3a\"], [0.8888888888888888, \"#fdca26\"], [1.0, \"#f0f921\"]], \"type\": \"heatmap\"}], \"heatmapgl\": [{\"colorbar\": {\"outlinewidth\": 0, \"ticks\": \"\"}, \"colorscale\": [[0.0, \"#0d0887\"], [0.1111111111111111, \"#46039f\"], [0.2222222222222222, \"#7201a8\"], [0.3333333333333333, \"#9c179e\"], [0.4444444444444444, \"#bd3786\"], [0.5555555555555556, \"#d8576b\"], [0.6666666666666666, \"#ed7953\"], [0.7777777777777778, \"#fb9f3a\"], [0.8888888888888888, \"#fdca26\"], [1.0, \"#f0f921\"]], \"type\": \"heatmapgl\"}], \"histogram\": [{\"marker\": {\"colorbar\": {\"outlinewidth\": 0, \"ticks\": \"\"}}, \"type\": \"histogram\"}], \"histogram2d\": [{\"colorbar\": {\"outlinewidth\": 0, \"ticks\": \"\"}, \"colorscale\": [[0.0, \"#0d0887\"], [0.1111111111111111, \"#46039f\"], [0.2222222222222222, \"#7201a8\"], [0.3333333333333333, \"#9c179e\"], [0.4444444444444444, \"#bd3786\"], [0.5555555555555556, \"#d8576b\"], [0.6666666666666666, \"#ed7953\"], [0.7777777777777778, \"#fb9f3a\"], [0.8888888888888888, \"#fdca26\"], [1.0, \"#f0f921\"]], \"type\": \"histogram2d\"}], \"histogram2dcontour\": [{\"colorbar\": {\"outlinewidth\": 0, \"ticks\": \"\"}, \"colorscale\": [[0.0, \"#0d0887\"], [0.1111111111111111, \"#46039f\"], [0.2222222222222222, \"#7201a8\"], [0.3333333333333333, \"#9c179e\"], [0.4444444444444444, \"#bd3786\"], [0.5555555555555556, \"#d8576b\"], [0.6666666666666666, \"#ed7953\"], [0.7777777777777778, \"#fb9f3a\"], [0.8888888888888888, \"#fdca26\"], [1.0, \"#f0f921\"]], \"type\": \"histogram2dcontour\"}], \"mesh3d\": [{\"colorbar\": {\"outlinewidth\": 0, \"ticks\": \"\"}, \"type\": \"mesh3d\"}], \"parcoords\": [{\"line\": {\"colorbar\": {\"outlinewidth\": 0, \"ticks\": \"\"}}, \"type\": \"parcoords\"}], \"pie\": [{\"automargin\": true, \"type\": \"pie\"}], \"scatter\": [{\"marker\": {\"colorbar\": {\"outlinewidth\": 0, \"ticks\": \"\"}}, \"type\": \"scatter\"}], \"scatter3d\": [{\"line\": {\"colorbar\": {\"outlinewidth\": 0, \"ticks\": \"\"}}, \"marker\": {\"colorbar\": {\"outlinewidth\": 0, \"ticks\": \"\"}}, \"type\": \"scatter3d\"}], \"scattercarpet\": [{\"marker\": {\"colorbar\": {\"outlinewidth\": 0, \"ticks\": \"\"}}, \"type\": \"scattercarpet\"}], \"scattergeo\": [{\"marker\": {\"colorbar\": {\"outlinewidth\": 0, \"ticks\": \"\"}}, \"type\": \"scattergeo\"}], \"scattergl\": [{\"marker\": {\"colorbar\": {\"outlinewidth\": 0, \"ticks\": \"\"}}, \"type\": \"scattergl\"}], \"scattermapbox\": [{\"marker\": {\"colorbar\": {\"outlinewidth\": 0, \"ticks\": \"\"}}, \"type\": \"scattermapbox\"}], \"scatterpolar\": [{\"marker\": {\"colorbar\": {\"outlinewidth\": 0, \"ticks\": \"\"}}, \"type\": \"scatterpolar\"}], \"scatterpolargl\": [{\"marker\": {\"colorbar\": {\"outlinewidth\": 0, \"ticks\": \"\"}}, \"type\": \"scatterpolargl\"}], \"scatterternary\": [{\"marker\": {\"colorbar\": {\"outlinewidth\": 0, \"ticks\": \"\"}}, \"type\": \"scatterternary\"}], \"surface\": [{\"colorbar\": {\"outlinewidth\": 0, \"ticks\": \"\"}, \"colorscale\": [[0.0, \"#0d0887\"], [0.1111111111111111, \"#46039f\"], [0.2222222222222222, \"#7201a8\"], [0.3333333333333333, \"#9c179e\"], [0.4444444444444444, \"#bd3786\"], [0.5555555555555556, \"#d8576b\"], [0.6666666666666666, \"#ed7953\"], [0.7777777777777778, \"#fb9f3a\"], [0.8888888888888888, \"#fdca26\"], [1.0, \"#f0f921\"]], \"type\": \"surface\"}], \"table\": [{\"cells\": {\"fill\": {\"color\": \"#EBF0F8\"}, \"line\": {\"color\": \"white\"}}, \"header\": {\"fill\": {\"color\": \"#C8D4E3\"}, \"line\": {\"color\": \"white\"}}, \"type\": \"table\"}]}, \"layout\": {\"annotationdefaults\": {\"arrowcolor\": \"#2a3f5f\", \"arrowhead\": 0, \"arrowwidth\": 1}, \"autotypenumbers\": \"strict\", \"coloraxis\": {\"colorbar\": {\"outlinewidth\": 0, \"ticks\": \"\"}}, \"colorscale\": {\"diverging\": [[0, \"#8e0152\"], [0.1, \"#c51b7d\"], [0.2, \"#de77ae\"], [0.3, \"#f1b6da\"], [0.4, \"#fde0ef\"], [0.5, \"#f7f7f7\"], [0.6, \"#e6f5d0\"], [0.7, \"#b8e186\"], [0.8, \"#7fbc41\"], [0.9, \"#4d9221\"], [1, \"#276419\"]], \"sequential\": [[0.0, \"#0d0887\"], [0.1111111111111111, \"#46039f\"], [0.2222222222222222, \"#7201a8\"], [0.3333333333333333, \"#9c179e\"], [0.4444444444444444, \"#bd3786\"], [0.5555555555555556, \"#d8576b\"], [0.6666666666666666, \"#ed7953\"], [0.7777777777777778, \"#fb9f3a\"], [0.8888888888888888, \"#fdca26\"], [1.0, \"#f0f921\"]], \"sequentialminus\": [[0.0, \"#0d0887\"], [0.1111111111111111, \"#46039f\"], [0.2222222222222222, \"#7201a8\"], [0.3333333333333333, \"#9c179e\"], [0.4444444444444444, \"#bd3786\"], [0.5555555555555556, \"#d8576b\"], [0.6666666666666666, \"#ed7953\"], [0.7777777777777778, \"#fb9f3a\"], [0.8888888888888888, \"#fdca26\"], [1.0, \"#f0f921\"]]}, \"colorway\": [\"#636efa\", \"#EF553B\", \"#00cc96\", \"#ab63fa\", \"#FFA15A\", \"#19d3f3\", \"#FF6692\", \"#B6E880\", \"#FF97FF\", \"#FECB52\"], \"font\": {\"color\": \"#2a3f5f\"}, \"geo\": {\"bgcolor\": \"white\", \"lakecolor\": \"white\", \"landcolor\": \"#E5ECF6\", \"showlakes\": true, \"showland\": true, \"subunitcolor\": \"white\"}, \"hoverlabel\": {\"align\": \"left\"}, \"hovermode\": \"closest\", \"mapbox\": {\"style\": \"light\"}, \"paper_bgcolor\": \"white\", \"plot_bgcolor\": \"#E5ECF6\", \"polar\": {\"angularaxis\": {\"gridcolor\": \"white\", \"linecolor\": \"white\", \"ticks\": \"\"}, \"bgcolor\": \"#E5ECF6\", \"radialaxis\": {\"gridcolor\": \"white\", \"linecolor\": \"white\", \"ticks\": \"\"}}, \"scene\": {\"xaxis\": {\"backgroundcolor\": \"#E5ECF6\", \"gridcolor\": \"white\", \"gridwidth\": 2, \"linecolor\": \"white\", \"showbackground\": true, \"ticks\": \"\", \"zerolinecolor\": \"white\"}, \"yaxis\": {\"backgroundcolor\": \"#E5ECF6\", \"gridcolor\": \"white\", \"gridwidth\": 2, \"linecolor\": \"white\", \"showbackground\": true, \"ticks\": \"\", \"zerolinecolor\": \"white\"}, \"zaxis\": {\"backgroundcolor\": \"#E5ECF6\", \"gridcolor\": \"white\", \"gridwidth\": 2, \"linecolor\": \"white\", \"showbackground\": true, \"ticks\": \"\", \"zerolinecolor\": \"white\"}}, \"shapedefaults\": {\"line\": {\"color\": \"#2a3f5f\"}}, \"ternary\": {\"aaxis\": {\"gridcolor\": \"white\", \"linecolor\": \"white\", \"ticks\": \"\"}, \"baxis\": {\"gridcolor\": \"white\", \"linecolor\": \"white\", \"ticks\": \"\"}, \"bgcolor\": \"#E5ECF6\", \"caxis\": {\"gridcolor\": \"white\", \"linecolor\": \"white\", \"ticks\": \"\"}}, \"title\": {\"x\": 0.05}, \"xaxis\": {\"automargin\": true, \"gridcolor\": \"white\", \"linecolor\": \"white\", \"ticks\": \"\", \"title\": {\"standoff\": 15}, \"zerolinecolor\": \"white\", \"zerolinewidth\": 2}, \"yaxis\": {\"automargin\": true, \"gridcolor\": \"white\", \"linecolor\": \"white\", \"ticks\": \"\", \"title\": {\"standoff\": 15}, \"zerolinecolor\": \"white\", \"zerolinewidth\": 2}}}},                        {\"responsive\": true}                    ).then(function(){\n",
       "                            \n",
       "var gd = document.getElementById('3f15d2a3-b0d5-4129-8a86-445b5dd59ea2');\n",
       "var x = new MutationObserver(function (mutations, observer) {{\n",
       "        var display = window.getComputedStyle(gd).display;\n",
       "        if (!display || display === 'none') {{\n",
       "            console.log([gd, 'removed!']);\n",
       "            Plotly.purge(gd);\n",
       "            observer.disconnect();\n",
       "        }}\n",
       "}});\n",
       "\n",
       "// Listen for the removal of the full notebook cells\n",
       "var notebookContainer = gd.closest('#notebook-container');\n",
       "if (notebookContainer) {{\n",
       "    x.observe(notebookContainer, {childList: true});\n",
       "}}\n",
       "\n",
       "// Listen for the clearing of the current output cell\n",
       "var outputEl = gd.closest('.output');\n",
       "if (outputEl) {{\n",
       "    x.observe(outputEl, {childList: true});\n",
       "}}\n",
       "\n",
       "                        })                };                });            </script>        </div>"
      ]
     },
     "metadata": {},
     "output_type": "display_data"
    }
   ],
   "source": [
    "\n",
    "\n",
    "figure_summary = go.Figure(data=[go.Table(header=dict(values=['', 'prefer beer', 'prefer NA', 'total'],\n",
    "                                          line_color='aliceblue',\n",
    "                fill_color='lightskyblue',\n",
    "                ),\n",
    "                 cells=dict(values=[['participants', '%', '\"right choice\" \\n(last trial) ','%' ],\n",
    "                                    [ 25 ,round((25/33)*100, 1) , mot_choiceB,round(mot_choiceB_perc,1) ], \n",
    "                                    [ 8 , round((8/33)*100, 1), mot_choiceNA, round(mot_choiceNA_perc,1)],\n",
    "                                    [33 , 100, mot_total,round(mot_total_perc,1)]\n",
    "                                   ]))\n",
    "                     ])\n",
    "plotly.offline.plot(figure_summary, filename = 'summary.html')\n",
    "figure_summary.show()\n"
   ]
  },
  {
   "cell_type": "markdown",
   "metadata": {
    "slideshow": {
     "slide_type": "skip"
    }
   },
   "source": [
    "![](summary.png)"
   ]
  },
  {
   "cell_type": "markdown",
   "metadata": {
    "slideshow": {
     "slide_type": "slide"
    }
   },
   "source": [
    "## descriptive stats "
   ]
  },
  {
   "cell_type": "markdown",
   "metadata": {
    "slideshow": {
     "slide_type": "slide"
    }
   },
   "source": [
    "<div style=\"text-align: right\"><h3> participants who prefer non-alcoholic beer | participants who chose regular beer at first trial </div> "
   ]
  },
  {
   "cell_type": "code",
   "execution_count": 80,
   "metadata": {
    "slideshow": {
     "slide_type": "skip"
    }
   },
   "outputs": [],
   "source": [
    "\n",
    "summary_NA=last_NA.describe()\n",
    "\n",
    "summary_NA=summary_NA[['beer_amount', 'values.k']]"
   ]
  },
  {
   "cell_type": "code",
   "execution_count": 81,
   "metadata": {
    "slideshow": {
     "slide_type": "skip"
    }
   },
   "outputs": [],
   "source": [
    "\n",
    "summary_beer=beer_last.describe()\n",
    "\n",
    "summary_beer=summary_beer[['NA_amount', 'values.k']]"
   ]
  },
  {
   "cell_type": "code",
   "execution_count": 79,
   "metadata": {
    "slideshow": {
     "slide_type": "fragment"
    }
   },
   "outputs": [
    {
     "data": {
      "text/html": [
       "<div>\n",
       "<style scoped>\n",
       "    .dataframe tbody tr th:only-of-type {\n",
       "        vertical-align: middle;\n",
       "    }\n",
       "\n",
       "    .dataframe tbody tr th {\n",
       "        vertical-align: top;\n",
       "    }\n",
       "\n",
       "    .dataframe thead th {\n",
       "        text-align: right;\n",
       "    }\n",
       "</style>\n",
       "<table border=\"1\" class=\"dataframe\">\n",
       "  <thead>\n",
       "    <tr style=\"text-align: right;\">\n",
       "      <th></th>\n",
       "      <th>incentive (NA)</th>\n",
       "      <th>k (NA)</th>\n",
       "      <th>incentive (beer)</th>\n",
       "      <th>k (beer)</th>\n",
       "    </tr>\n",
       "  </thead>\n",
       "  <tbody>\n",
       "    <tr>\n",
       "      <th>count</th>\n",
       "      <td>25.000000</td>\n",
       "      <td>25.000000</td>\n",
       "      <td>8.00000</td>\n",
       "      <td>8.000000</td>\n",
       "    </tr>\n",
       "    <tr>\n",
       "      <th>mean</th>\n",
       "      <td>56.070400</td>\n",
       "      <td>4.238147</td>\n",
       "      <td>5.15250</td>\n",
       "      <td>0.079792</td>\n",
       "    </tr>\n",
       "    <tr>\n",
       "      <th>std</th>\n",
       "      <td>41.750979</td>\n",
       "      <td>8.391437</td>\n",
       "      <td>5.02258</td>\n",
       "      <td>0.129420</td>\n",
       "    </tr>\n",
       "    <tr>\n",
       "      <th>min</th>\n",
       "      <td>0.090000</td>\n",
       "      <td>0.000110</td>\n",
       "      <td>0.06000</td>\n",
       "      <td>0.001940</td>\n",
       "    </tr>\n",
       "    <tr>\n",
       "      <th>25%</th>\n",
       "      <td>6.000000</td>\n",
       "      <td>0.009490</td>\n",
       "      <td>2.54250</td>\n",
       "      <td>0.002998</td>\n",
       "    </tr>\n",
       "  </tbody>\n",
       "</table>\n",
       "</div>"
      ],
      "text/plain": [
       "       incentive (NA)     k (NA)  incentive (beer)  k (beer)\n",
       "count       25.000000  25.000000           8.00000  8.000000\n",
       "mean        56.070400   4.238147           5.15250  0.079792\n",
       "std         41.750979   8.391437           5.02258  0.129420\n",
       "min          0.090000   0.000110           0.06000  0.001940\n",
       "25%          6.000000   0.009490           2.54250  0.002998"
      ]
     },
     "execution_count": 79,
     "metadata": {},
     "output_type": "execute_result"
    }
   ],
   "source": [
    "summary_both=pd.DataFrame.join(summary_beer, summary_NA, lsuffix='_beer', rsuffix='_NA')\n",
    "summary_both.columns=['incentive (NA)','k (NA)', 'incentive (beer)', 'k (beer)']\n",
    "summary_both"
   ]
  },
  {
   "cell_type": "code",
   "execution_count": 4,
   "metadata": {
    "slideshow": {
     "slide_type": "skip"
    }
   },
   "outputs": [],
   "source": [
    "# ************ RUN ALL BELOW FIRST!****************************"
   ]
  },
  {
   "cell_type": "code",
   "execution_count": 5,
   "metadata": {
    "slideshow": {
     "slide_type": "skip"
    }
   },
   "outputs": [],
   "source": [
    "import pandas as pd\n",
    "from pandas import Series, DataFrame\n",
    "\n",
    "import seaborn as sns\n",
    "\n",
    "import numpy as np\n",
    "import matplotlib.pyplot as plt\n"
   ]
  },
  {
   "cell_type": "code",
   "execution_count": 6,
   "metadata": {
    "slideshow": {
     "slide_type": "skip"
    }
   },
   "outputs": [],
   "source": [
    "# readin data\n",
    "\n",
    "consent=pd.read_csv('..\\data\\s5_pilot_consent_tidy.csv')\n",
    "debrief=pd.read_csv(\"..\\data\\s5_pilot_debrief_tidy.csv\")\n",
    "beer_stair=pd.read_csv(\"..\\data\\hb_pilot_s5_beer_stair_tidy.csv\")\n",
    "ddt=pd.read_csv(\"..\\data\\hb_pilot_s5_ddt_tidy.csv\")\n",
    "code=pd.read_csv(\"..\\data\\hb_pilot_s5_confirmation_code_tidy.csv\")\n",
    "\n"
   ]
  },
  {
   "cell_type": "code",
   "execution_count": 7,
   "metadata": {
    "slideshow": {
     "slide_type": "skip"
    }
   },
   "outputs": [],
   "source": [
    "# beer stair data long ->\n",
    "#beer_stair=beer_stair.drop('build', 1)\n",
    "\n",
    "beer_stair=beer_stair.fillna('non-alcoholic')\n",
    "#beer_stair.head()\n",
    "\n",
    "\n",
    "\n",
    "\n"
   ]
  },
  {
   "cell_type": "code",
   "execution_count": 8,
   "metadata": {
    "slideshow": {
     "slide_type": "skip"
    }
   },
   "outputs": [],
   "source": [
    "#2 smaller data sets: one with NA as first choice,one with beer as first choice\n",
    "\n",
    "# those who chose beer on first or second trial:\n",
    "#create a list of pp numbers  who chose beer in the first trial\n",
    "\n",
    "firstTrials=[1,2]\n",
    "x=0\n",
    "beer_pplist=[]\n",
    "\n",
    "for x in range(beer_stair.shape[0]):\n",
    "\n",
    "    if beer_stair.loc[x,'trialnum'] in firstTrials and beer_stair.loc[x,'response']=='beer':\n",
    "        beer_pplist.append(beer_stair.loc[x,'subject'])\n",
    "        x=x+1\n",
    "#print(beer_pplist)      "
   ]
  },
  {
   "cell_type": "code",
   "execution_count": 9,
   "metadata": {
    "slideshow": {
     "slide_type": "skip"
    }
   },
   "outputs": [
    {
     "data": {
      "text/plain": [
       "[111412, 180930, 473308, 542088, 699079, 745353, 853105, 950720]"
      ]
     },
     "execution_count": 9,
     "metadata": {},
     "output_type": "execute_result"
    }
   ],
   "source": [
    "# dataset with pp who chose NA beer\n",
    "na_pplist=[]\n",
    "x=0\n",
    "\n",
    "for x in range(beer_stair.shape[0]):\n",
    "\n",
    "    if beer_stair.loc[x,'trialnum']==2 and beer_stair.loc[x,'response']=='NA_base':\n",
    "        na_pplist.append(beer_stair.loc[x,'subject'])\n",
    "    x=x+1\n",
    "        \n",
    "na_pplist=na_pplist[-8:] #this contains duplicates, I only want those that are duplicated, ie. non-alcoholic beer was not chosen by mistake\n",
    "na_pplist\n",
    "\n",
    "\n",
    "\n",
    "# table_napp=pd.Series(na_pplist).value_counts()\n",
    "\n",
    "# na_pplist=Series(na_pplist)\n",
    "\n",
    "# new_flist=[]\n",
    "# dupid=na_pplist.duplicated(keep='last')\n",
    "# x=0\n",
    "# for x in range(len(na_pplist)):\n",
    "#     if dupid[x]:\n",
    "#         new_flist.append(na_pplist[x])\n",
    "#         x=x+1\n",
    "# new_flist\n",
    "# na_pplist\n",
    "#new_flist now has those who chose non-alcohpolic beer        \n",
    "#print(new_flist) #hallefuckingluja! \n"
   ]
  },
  {
   "cell_type": "code",
   "execution_count": 10,
   "metadata": {
    "slideshow": {
     "slide_type": "skip"
    }
   },
   "outputs": [],
   "source": [
    "#filter pp that are in the new_flist!\n",
    "\n",
    "prefer_beer=beer_stair.loc[beer_stair['subject'].isin(beer_pplist)]\n",
    "\n",
    "#prefer_beer"
   ]
  },
  {
   "cell_type": "code",
   "execution_count": 11,
   "metadata": {
    "slideshow": {
     "slide_type": "skip"
    }
   },
   "outputs": [],
   "source": [
    "#filter pp who are in the new_flist (those who chose NA beer)\n",
    "\n",
    "prefer_NA=beer_stair.loc[beer_stair['subject'].isin(na_pplist)]\n",
    "#prefer_NA\n"
   ]
  },
  {
   "cell_type": "code",
   "execution_count": 12,
   "metadata": {
    "slideshow": {
     "slide_type": "skip"
    }
   },
   "outputs": [
    {
     "name": "stderr",
     "output_type": "stream",
     "text": [
      "C:\\Users\\Helena\\Anaconda3\\lib\\site-packages\\pandas\\core\\frame.py:4025: SettingWithCopyWarning: \n",
      "A value is trying to be set on a copy of a slice from a DataFrame\n",
      "\n",
      "See the caveats in the documentation: http://pandas.pydata.org/pandas-docs/stable/indexing.html#indexing-view-versus-copy\n",
      "  return super(DataFrame, self).rename(**kwargs)\n"
     ]
    }
   ],
   "source": [
    "# rename columns stimulus item 1 and stimulus item 2 to amount_beer and amount_na\n",
    "\n",
    "prefer_beer.rename(columns = {'stimulusitem1':'beer_amount', 'stimulusitem2':'NA_amount'}, inplace = True)\n",
    "#prefer_beer.columns \n",
    "\n",
    "prefer_NA.rename(columns={'stimulusitem1':'beer_amount', 'stimulusitem2':'NA_amount'}, inplace=True)\n",
    "#prefer_NA.columns"
   ]
  },
  {
   "cell_type": "code",
   "execution_count": 13,
   "metadata": {
    "slideshow": {
     "slide_type": "skip"
    }
   },
   "outputs": [
    {
     "name": "stderr",
     "output_type": "stream",
     "text": [
      "C:\\Users\\Helena\\Anaconda3\\lib\\site-packages\\ipykernel_launcher.py:4: SettingWithCopyWarning: \n",
      "A value is trying to be set on a copy of a slice from a DataFrame.\n",
      "Try using .loc[row_indexer,col_indexer] = value instead\n",
      "\n",
      "See the caveats in the documentation: http://pandas.pydata.org/pandas-docs/stable/indexing.html#indexing-view-versus-copy\n",
      "  after removing the cwd from sys.path.\n",
      "C:\\Users\\Helena\\Anaconda3\\lib\\site-packages\\ipykernel_launcher.py:5: SettingWithCopyWarning: \n",
      "A value is trying to be set on a copy of a slice from a DataFrame.\n",
      "Try using .loc[row_indexer,col_indexer] = value instead\n",
      "\n",
      "See the caveats in the documentation: http://pandas.pydata.org/pandas-docs/stable/indexing.html#indexing-view-versus-copy\n",
      "  \"\"\"\n",
      "C:\\Users\\Helena\\Anaconda3\\lib\\site-packages\\ipykernel_launcher.py:7: SettingWithCopyWarning: \n",
      "A value is trying to be set on a copy of a slice from a DataFrame.\n",
      "Try using .loc[row_indexer,col_indexer] = value instead\n",
      "\n",
      "See the caveats in the documentation: http://pandas.pydata.org/pandas-docs/stable/indexing.html#indexing-view-versus-copy\n",
      "  import sys\n",
      "C:\\Users\\Helena\\Anaconda3\\lib\\site-packages\\ipykernel_launcher.py:8: SettingWithCopyWarning: \n",
      "A value is trying to be set on a copy of a slice from a DataFrame.\n",
      "Try using .loc[row_indexer,col_indexer] = value instead\n",
      "\n",
      "See the caveats in the documentation: http://pandas.pydata.org/pandas-docs/stable/indexing.html#indexing-view-versus-copy\n",
      "  \n"
     ]
    }
   ],
   "source": [
    "# sort out 'amount'column\n",
    "\n",
    "## for beer dataset\n",
    "prefer_beer['NA_amount'] = prefer_beer['NA_amount'].str.replace(\"non-alcoholic beer \\(0.0% ABV\\) and £\", '', regex=True) \n",
    "prefer_beer['NA_amount'] = prefer_beer['NA_amount'].str.replace(\"non-alcoholic beer \\(0.0% ABV\\)\", '0', regex=True)\n",
    "\n",
    "prefer_beer['beer_amount'] = prefer_beer['beer_amount'].str.replace(\"regular beer \\(4.5%\\) and £\", '', regex=True)\n",
    "prefer_beer['beer_amount'] = prefer_beer['beer_amount'].str.replace(\"regular beer \\(4.5%\\)\", '0', regex=True) \n",
    "\n",
    "\n",
    "#prefer_beer"
   ]
  },
  {
   "cell_type": "code",
   "execution_count": 14,
   "metadata": {
    "slideshow": {
     "slide_type": "skip"
    }
   },
   "outputs": [
    {
     "name": "stderr",
     "output_type": "stream",
     "text": [
      "C:\\Users\\Helena\\Anaconda3\\lib\\site-packages\\ipykernel_launcher.py:2: SettingWithCopyWarning: \n",
      "A value is trying to be set on a copy of a slice from a DataFrame.\n",
      "Try using .loc[row_indexer,col_indexer] = value instead\n",
      "\n",
      "See the caveats in the documentation: http://pandas.pydata.org/pandas-docs/stable/indexing.html#indexing-view-versus-copy\n",
      "  \n",
      "C:\\Users\\Helena\\Anaconda3\\lib\\site-packages\\ipykernel_launcher.py:3: SettingWithCopyWarning: \n",
      "A value is trying to be set on a copy of a slice from a DataFrame.\n",
      "Try using .loc[row_indexer,col_indexer] = value instead\n",
      "\n",
      "See the caveats in the documentation: http://pandas.pydata.org/pandas-docs/stable/indexing.html#indexing-view-versus-copy\n",
      "  This is separate from the ipykernel package so we can avoid doing imports until\n",
      "C:\\Users\\Helena\\Anaconda3\\lib\\site-packages\\ipykernel_launcher.py:4: SettingWithCopyWarning: \n",
      "A value is trying to be set on a copy of a slice from a DataFrame.\n",
      "Try using .loc[row_indexer,col_indexer] = value instead\n",
      "\n",
      "See the caveats in the documentation: http://pandas.pydata.org/pandas-docs/stable/indexing.html#indexing-view-versus-copy\n",
      "  after removing the cwd from sys.path.\n",
      "C:\\Users\\Helena\\Anaconda3\\lib\\site-packages\\ipykernel_launcher.py:7: SettingWithCopyWarning: \n",
      "A value is trying to be set on a copy of a slice from a DataFrame.\n",
      "Try using .loc[row_indexer,col_indexer] = value instead\n",
      "\n",
      "See the caveats in the documentation: http://pandas.pydata.org/pandas-docs/stable/indexing.html#indexing-view-versus-copy\n",
      "  import sys\n"
     ]
    },
    {
     "data": {
      "text/html": [
       "<div>\n",
       "<style scoped>\n",
       "    .dataframe tbody tr th:only-of-type {\n",
       "        vertical-align: middle;\n",
       "    }\n",
       "\n",
       "    .dataframe tbody tr th {\n",
       "        vertical-align: top;\n",
       "    }\n",
       "\n",
       "    .dataframe thead th {\n",
       "        text-align: right;\n",
       "    }\n",
       "</style>\n",
       "<table border=\"1\" class=\"dataframe\">\n",
       "  <thead>\n",
       "    <tr style=\"text-align: right;\">\n",
       "      <th></th>\n",
       "      <th>subject</th>\n",
       "      <th>trialnum</th>\n",
       "      <th>blockcode</th>\n",
       "      <th>trialcode</th>\n",
       "      <th>response</th>\n",
       "      <th>beer_amount</th>\n",
       "      <th>NA_amount</th>\n",
       "    </tr>\n",
       "  </thead>\n",
       "  <tbody>\n",
       "    <tr>\n",
       "      <th>98</th>\n",
       "      <td>180930</td>\n",
       "      <td>1</td>\n",
       "      <td>start</td>\n",
       "      <td>base_q</td>\n",
       "      <td>NA_base</td>\n",
       "      <td>0</td>\n",
       "      <td>0</td>\n",
       "    </tr>\n",
       "    <tr>\n",
       "      <th>99</th>\n",
       "      <td>180930</td>\n",
       "      <td>2</td>\n",
       "      <td>start</td>\n",
       "      <td>check</td>\n",
       "      <td>NA_base</td>\n",
       "      <td>You chose non-alcoholic beer.       Please con...</td>\n",
       "      <td>regular beer (4.5%)</td>\n",
       "    </tr>\n",
       "    <tr>\n",
       "      <th>100</th>\n",
       "      <td>180930</td>\n",
       "      <td>3</td>\n",
       "      <td>start</td>\n",
       "      <td>trial_n</td>\n",
       "      <td>beer_n</td>\n",
       "      <td>25</td>\n",
       "      <td>0</td>\n",
       "    </tr>\n",
       "    <tr>\n",
       "      <th>101</th>\n",
       "      <td>180930</td>\n",
       "      <td>4</td>\n",
       "      <td>start</td>\n",
       "      <td>trial_n</td>\n",
       "      <td>beer_n</td>\n",
       "      <td>12.5</td>\n",
       "      <td>0</td>\n",
       "    </tr>\n",
       "    <tr>\n",
       "      <th>102</th>\n",
       "      <td>180930</td>\n",
       "      <td>5</td>\n",
       "      <td>start</td>\n",
       "      <td>trial_n</td>\n",
       "      <td>beer_n</td>\n",
       "      <td>6.25</td>\n",
       "      <td>0</td>\n",
       "    </tr>\n",
       "    <tr>\n",
       "      <th>103</th>\n",
       "      <td>180930</td>\n",
       "      <td>6</td>\n",
       "      <td>start</td>\n",
       "      <td>trial_n</td>\n",
       "      <td>beer_n</td>\n",
       "      <td>3.15</td>\n",
       "      <td>0</td>\n",
       "    </tr>\n",
       "    <tr>\n",
       "      <th>104</th>\n",
       "      <td>180930</td>\n",
       "      <td>7</td>\n",
       "      <td>start</td>\n",
       "      <td>trial_n</td>\n",
       "      <td>NA_n</td>\n",
       "      <td>4.7</td>\n",
       "      <td>0</td>\n",
       "    </tr>\n",
       "    <tr>\n",
       "      <th>105</th>\n",
       "      <td>180930</td>\n",
       "      <td>8</td>\n",
       "      <td>start</td>\n",
       "      <td>trial_n</td>\n",
       "      <td>NA_n</td>\n",
       "      <td>5.45</td>\n",
       "      <td>0</td>\n",
       "    </tr>\n",
       "    <tr>\n",
       "      <th>106</th>\n",
       "      <td>180930</td>\n",
       "      <td>9</td>\n",
       "      <td>start</td>\n",
       "      <td>trial_n</td>\n",
       "      <td>NA_n</td>\n",
       "      <td>5.85</td>\n",
       "      <td>0</td>\n",
       "    </tr>\n",
       "    <tr>\n",
       "      <th>107</th>\n",
       "      <td>180930</td>\n",
       "      <td>10</td>\n",
       "      <td>start</td>\n",
       "      <td>trial_n</td>\n",
       "      <td>NA_n</td>\n",
       "      <td>6.05</td>\n",
       "      <td>0</td>\n",
       "    </tr>\n",
       "    <tr>\n",
       "      <th>108</th>\n",
       "      <td>180930</td>\n",
       "      <td>11</td>\n",
       "      <td>start</td>\n",
       "      <td>trial_n</td>\n",
       "      <td>beer_n</td>\n",
       "      <td>5.95</td>\n",
       "      <td>0</td>\n",
       "    </tr>\n",
       "    <tr>\n",
       "      <th>109</th>\n",
       "      <td>180930</td>\n",
       "      <td>12</td>\n",
       "      <td>start</td>\n",
       "      <td>trial_n</td>\n",
       "      <td>beer_n</td>\n",
       "      <td>5.9</td>\n",
       "      <td>0</td>\n",
       "    </tr>\n",
       "    <tr>\n",
       "      <th>110</th>\n",
       "      <td>180930</td>\n",
       "      <td>13</td>\n",
       "      <td>start</td>\n",
       "      <td>trial_n</td>\n",
       "      <td>beer_n</td>\n",
       "      <td>5.88</td>\n",
       "      <td>0</td>\n",
       "    </tr>\n",
       "    <tr>\n",
       "      <th>111</th>\n",
       "      <td>180930</td>\n",
       "      <td>14</td>\n",
       "      <td>start</td>\n",
       "      <td>trial_n</td>\n",
       "      <td>NA_n</td>\n",
       "      <td>5.89</td>\n",
       "      <td>0</td>\n",
       "    </tr>\n",
       "    <tr>\n",
       "      <th>112</th>\n",
       "      <td>180930</td>\n",
       "      <td>15</td>\n",
       "      <td>start</td>\n",
       "      <td>trial_n</td>\n",
       "      <td>NA_n</td>\n",
       "      <td>5.9</td>\n",
       "      <td>0</td>\n",
       "    </tr>\n",
       "    <tr>\n",
       "      <th>113</th>\n",
       "      <td>699079</td>\n",
       "      <td>1</td>\n",
       "      <td>start</td>\n",
       "      <td>base_q</td>\n",
       "      <td>NA_base</td>\n",
       "      <td>0</td>\n",
       "      <td>0</td>\n",
       "    </tr>\n",
       "    <tr>\n",
       "      <th>114</th>\n",
       "      <td>699079</td>\n",
       "      <td>2</td>\n",
       "      <td>start</td>\n",
       "      <td>check</td>\n",
       "      <td>NA_base</td>\n",
       "      <td>You chose non-alcoholic beer.       Please con...</td>\n",
       "      <td>regular beer (4.5%)</td>\n",
       "    </tr>\n",
       "    <tr>\n",
       "      <th>115</th>\n",
       "      <td>699079</td>\n",
       "      <td>3</td>\n",
       "      <td>start</td>\n",
       "      <td>trial_n</td>\n",
       "      <td>beer_n</td>\n",
       "      <td>25</td>\n",
       "      <td>0</td>\n",
       "    </tr>\n",
       "    <tr>\n",
       "      <th>116</th>\n",
       "      <td>699079</td>\n",
       "      <td>4</td>\n",
       "      <td>start</td>\n",
       "      <td>trial_n</td>\n",
       "      <td>beer_n</td>\n",
       "      <td>12.5</td>\n",
       "      <td>0</td>\n",
       "    </tr>\n",
       "    <tr>\n",
       "      <th>117</th>\n",
       "      <td>699079</td>\n",
       "      <td>5</td>\n",
       "      <td>start</td>\n",
       "      <td>trial_n</td>\n",
       "      <td>beer_n</td>\n",
       "      <td>6.25</td>\n",
       "      <td>0</td>\n",
       "    </tr>\n",
       "    <tr>\n",
       "      <th>118</th>\n",
       "      <td>699079</td>\n",
       "      <td>6</td>\n",
       "      <td>start</td>\n",
       "      <td>trial_n</td>\n",
       "      <td>beer_n</td>\n",
       "      <td>3.15</td>\n",
       "      <td>0</td>\n",
       "    </tr>\n",
       "    <tr>\n",
       "      <th>119</th>\n",
       "      <td>699079</td>\n",
       "      <td>7</td>\n",
       "      <td>start</td>\n",
       "      <td>trial_n</td>\n",
       "      <td>beer_n</td>\n",
       "      <td>1.6</td>\n",
       "      <td>0</td>\n",
       "    </tr>\n",
       "    <tr>\n",
       "      <th>120</th>\n",
       "      <td>699079</td>\n",
       "      <td>8</td>\n",
       "      <td>start</td>\n",
       "      <td>trial_n</td>\n",
       "      <td>NA_n</td>\n",
       "      <td>2.35</td>\n",
       "      <td>0</td>\n",
       "    </tr>\n",
       "    <tr>\n",
       "      <th>121</th>\n",
       "      <td>699079</td>\n",
       "      <td>9</td>\n",
       "      <td>start</td>\n",
       "      <td>trial_n</td>\n",
       "      <td>NA_n</td>\n",
       "      <td>2.75</td>\n",
       "      <td>0</td>\n",
       "    </tr>\n",
       "    <tr>\n",
       "      <th>122</th>\n",
       "      <td>699079</td>\n",
       "      <td>10</td>\n",
       "      <td>start</td>\n",
       "      <td>trial_n</td>\n",
       "      <td>NA_n</td>\n",
       "      <td>2.95</td>\n",
       "      <td>0</td>\n",
       "    </tr>\n",
       "    <tr>\n",
       "      <th>123</th>\n",
       "      <td>699079</td>\n",
       "      <td>11</td>\n",
       "      <td>start</td>\n",
       "      <td>trial_n</td>\n",
       "      <td>NA_n</td>\n",
       "      <td>3.05</td>\n",
       "      <td>0</td>\n",
       "    </tr>\n",
       "    <tr>\n",
       "      <th>124</th>\n",
       "      <td>699079</td>\n",
       "      <td>12</td>\n",
       "      <td>start</td>\n",
       "      <td>trial_n</td>\n",
       "      <td>NA_n</td>\n",
       "      <td>3.1</td>\n",
       "      <td>0</td>\n",
       "    </tr>\n",
       "    <tr>\n",
       "      <th>125</th>\n",
       "      <td>699079</td>\n",
       "      <td>13</td>\n",
       "      <td>start</td>\n",
       "      <td>trial_n</td>\n",
       "      <td>beer_n</td>\n",
       "      <td>3.08</td>\n",
       "      <td>0</td>\n",
       "    </tr>\n",
       "    <tr>\n",
       "      <th>126</th>\n",
       "      <td>699079</td>\n",
       "      <td>14</td>\n",
       "      <td>start</td>\n",
       "      <td>trial_n</td>\n",
       "      <td>beer_n</td>\n",
       "      <td>3.07</td>\n",
       "      <td>0</td>\n",
       "    </tr>\n",
       "    <tr>\n",
       "      <th>127</th>\n",
       "      <td>699079</td>\n",
       "      <td>15</td>\n",
       "      <td>start</td>\n",
       "      <td>trial_n</td>\n",
       "      <td>beer_n</td>\n",
       "      <td>3.06</td>\n",
       "      <td>0</td>\n",
       "    </tr>\n",
       "    <tr>\n",
       "      <th>...</th>\n",
       "      <td>...</td>\n",
       "      <td>...</td>\n",
       "      <td>...</td>\n",
       "      <td>...</td>\n",
       "      <td>...</td>\n",
       "      <td>...</td>\n",
       "      <td>...</td>\n",
       "    </tr>\n",
       "    <tr>\n",
       "      <th>876</th>\n",
       "      <td>853105</td>\n",
       "      <td>1</td>\n",
       "      <td>start</td>\n",
       "      <td>base_q</td>\n",
       "      <td>NA_base</td>\n",
       "      <td>0</td>\n",
       "      <td>0</td>\n",
       "    </tr>\n",
       "    <tr>\n",
       "      <th>877</th>\n",
       "      <td>853105</td>\n",
       "      <td>2</td>\n",
       "      <td>start</td>\n",
       "      <td>check</td>\n",
       "      <td>NA_base</td>\n",
       "      <td>You chose non-alcoholic beer.       Please con...</td>\n",
       "      <td>regular beer (4.5%)</td>\n",
       "    </tr>\n",
       "    <tr>\n",
       "      <th>878</th>\n",
       "      <td>853105</td>\n",
       "      <td>3</td>\n",
       "      <td>start</td>\n",
       "      <td>trial_n</td>\n",
       "      <td>beer_n</td>\n",
       "      <td>25</td>\n",
       "      <td>0</td>\n",
       "    </tr>\n",
       "    <tr>\n",
       "      <th>879</th>\n",
       "      <td>853105</td>\n",
       "      <td>4</td>\n",
       "      <td>start</td>\n",
       "      <td>trial_n</td>\n",
       "      <td>beer_n</td>\n",
       "      <td>12.5</td>\n",
       "      <td>0</td>\n",
       "    </tr>\n",
       "    <tr>\n",
       "      <th>880</th>\n",
       "      <td>853105</td>\n",
       "      <td>5</td>\n",
       "      <td>start</td>\n",
       "      <td>trial_n</td>\n",
       "      <td>beer_n</td>\n",
       "      <td>6.25</td>\n",
       "      <td>0</td>\n",
       "    </tr>\n",
       "    <tr>\n",
       "      <th>881</th>\n",
       "      <td>853105</td>\n",
       "      <td>6</td>\n",
       "      <td>start</td>\n",
       "      <td>trial_n</td>\n",
       "      <td>beer_n</td>\n",
       "      <td>3.15</td>\n",
       "      <td>0</td>\n",
       "    </tr>\n",
       "    <tr>\n",
       "      <th>882</th>\n",
       "      <td>853105</td>\n",
       "      <td>7</td>\n",
       "      <td>start</td>\n",
       "      <td>trial_n</td>\n",
       "      <td>beer_n</td>\n",
       "      <td>1.6</td>\n",
       "      <td>0</td>\n",
       "    </tr>\n",
       "    <tr>\n",
       "      <th>883</th>\n",
       "      <td>853105</td>\n",
       "      <td>8</td>\n",
       "      <td>start</td>\n",
       "      <td>trial_n</td>\n",
       "      <td>beer_n</td>\n",
       "      <td>0.85</td>\n",
       "      <td>0</td>\n",
       "    </tr>\n",
       "    <tr>\n",
       "      <th>884</th>\n",
       "      <td>853105</td>\n",
       "      <td>9</td>\n",
       "      <td>start</td>\n",
       "      <td>trial_n</td>\n",
       "      <td>NA_n</td>\n",
       "      <td>1.25</td>\n",
       "      <td>0</td>\n",
       "    </tr>\n",
       "    <tr>\n",
       "      <th>885</th>\n",
       "      <td>853105</td>\n",
       "      <td>10</td>\n",
       "      <td>start</td>\n",
       "      <td>trial_n</td>\n",
       "      <td>beer_n</td>\n",
       "      <td>1.05</td>\n",
       "      <td>0</td>\n",
       "    </tr>\n",
       "    <tr>\n",
       "      <th>886</th>\n",
       "      <td>853105</td>\n",
       "      <td>11</td>\n",
       "      <td>start</td>\n",
       "      <td>trial_n</td>\n",
       "      <td>beer_n</td>\n",
       "      <td>0.95</td>\n",
       "      <td>0</td>\n",
       "    </tr>\n",
       "    <tr>\n",
       "      <th>887</th>\n",
       "      <td>853105</td>\n",
       "      <td>12</td>\n",
       "      <td>start</td>\n",
       "      <td>trial_n</td>\n",
       "      <td>NA_n</td>\n",
       "      <td>1</td>\n",
       "      <td>0</td>\n",
       "    </tr>\n",
       "    <tr>\n",
       "      <th>888</th>\n",
       "      <td>853105</td>\n",
       "      <td>13</td>\n",
       "      <td>start</td>\n",
       "      <td>trial_n</td>\n",
       "      <td>beer_n</td>\n",
       "      <td>0.98</td>\n",
       "      <td>0</td>\n",
       "    </tr>\n",
       "    <tr>\n",
       "      <th>889</th>\n",
       "      <td>853105</td>\n",
       "      <td>14</td>\n",
       "      <td>start</td>\n",
       "      <td>trial_n</td>\n",
       "      <td>NA_n</td>\n",
       "      <td>0.99</td>\n",
       "      <td>0</td>\n",
       "    </tr>\n",
       "    <tr>\n",
       "      <th>890</th>\n",
       "      <td>853105</td>\n",
       "      <td>15</td>\n",
       "      <td>start</td>\n",
       "      <td>trial_n</td>\n",
       "      <td>NA_n</td>\n",
       "      <td>0.99</td>\n",
       "      <td>0</td>\n",
       "    </tr>\n",
       "    <tr>\n",
       "      <th>990</th>\n",
       "      <td>950720</td>\n",
       "      <td>1</td>\n",
       "      <td>start</td>\n",
       "      <td>base_q</td>\n",
       "      <td>NA_base</td>\n",
       "      <td>0</td>\n",
       "      <td>0</td>\n",
       "    </tr>\n",
       "    <tr>\n",
       "      <th>991</th>\n",
       "      <td>950720</td>\n",
       "      <td>2</td>\n",
       "      <td>start</td>\n",
       "      <td>check</td>\n",
       "      <td>NA_base</td>\n",
       "      <td>You chose non-alcoholic beer.       Please con...</td>\n",
       "      <td>regular beer (4.5%)</td>\n",
       "    </tr>\n",
       "    <tr>\n",
       "      <th>992</th>\n",
       "      <td>950720</td>\n",
       "      <td>3</td>\n",
       "      <td>start</td>\n",
       "      <td>trial_n</td>\n",
       "      <td>beer_n</td>\n",
       "      <td>25</td>\n",
       "      <td>0</td>\n",
       "    </tr>\n",
       "    <tr>\n",
       "      <th>993</th>\n",
       "      <td>950720</td>\n",
       "      <td>4</td>\n",
       "      <td>start</td>\n",
       "      <td>trial_n</td>\n",
       "      <td>beer_n</td>\n",
       "      <td>12.5</td>\n",
       "      <td>0</td>\n",
       "    </tr>\n",
       "    <tr>\n",
       "      <th>994</th>\n",
       "      <td>950720</td>\n",
       "      <td>5</td>\n",
       "      <td>start</td>\n",
       "      <td>trial_n</td>\n",
       "      <td>beer_n</td>\n",
       "      <td>6.25</td>\n",
       "      <td>0</td>\n",
       "    </tr>\n",
       "    <tr>\n",
       "      <th>995</th>\n",
       "      <td>950720</td>\n",
       "      <td>6</td>\n",
       "      <td>start</td>\n",
       "      <td>trial_n</td>\n",
       "      <td>NA_n</td>\n",
       "      <td>9.35</td>\n",
       "      <td>0</td>\n",
       "    </tr>\n",
       "    <tr>\n",
       "      <th>996</th>\n",
       "      <td>950720</td>\n",
       "      <td>7</td>\n",
       "      <td>start</td>\n",
       "      <td>trial_n</td>\n",
       "      <td>NA_n</td>\n",
       "      <td>10.9</td>\n",
       "      <td>0</td>\n",
       "    </tr>\n",
       "    <tr>\n",
       "      <th>997</th>\n",
       "      <td>950720</td>\n",
       "      <td>8</td>\n",
       "      <td>start</td>\n",
       "      <td>trial_n</td>\n",
       "      <td>beer_n</td>\n",
       "      <td>10.15</td>\n",
       "      <td>0</td>\n",
       "    </tr>\n",
       "    <tr>\n",
       "      <th>998</th>\n",
       "      <td>950720</td>\n",
       "      <td>9</td>\n",
       "      <td>start</td>\n",
       "      <td>trial_n</td>\n",
       "      <td>beer_n</td>\n",
       "      <td>9.75</td>\n",
       "      <td>0</td>\n",
       "    </tr>\n",
       "    <tr>\n",
       "      <th>999</th>\n",
       "      <td>950720</td>\n",
       "      <td>10</td>\n",
       "      <td>start</td>\n",
       "      <td>trial_n</td>\n",
       "      <td>NA_n</td>\n",
       "      <td>9.95</td>\n",
       "      <td>0</td>\n",
       "    </tr>\n",
       "    <tr>\n",
       "      <th>1000</th>\n",
       "      <td>950720</td>\n",
       "      <td>11</td>\n",
       "      <td>start</td>\n",
       "      <td>trial_n</td>\n",
       "      <td>NA_n</td>\n",
       "      <td>10.05</td>\n",
       "      <td>0</td>\n",
       "    </tr>\n",
       "    <tr>\n",
       "      <th>1001</th>\n",
       "      <td>950720</td>\n",
       "      <td>12</td>\n",
       "      <td>start</td>\n",
       "      <td>trial_n</td>\n",
       "      <td>beer_n</td>\n",
       "      <td>10</td>\n",
       "      <td>0</td>\n",
       "    </tr>\n",
       "    <tr>\n",
       "      <th>1002</th>\n",
       "      <td>950720</td>\n",
       "      <td>13</td>\n",
       "      <td>start</td>\n",
       "      <td>trial_n</td>\n",
       "      <td>beer_n</td>\n",
       "      <td>9.98</td>\n",
       "      <td>0</td>\n",
       "    </tr>\n",
       "    <tr>\n",
       "      <th>1003</th>\n",
       "      <td>950720</td>\n",
       "      <td>14</td>\n",
       "      <td>start</td>\n",
       "      <td>trial_n</td>\n",
       "      <td>NA_n</td>\n",
       "      <td>9.99</td>\n",
       "      <td>0</td>\n",
       "    </tr>\n",
       "    <tr>\n",
       "      <th>1004</th>\n",
       "      <td>950720</td>\n",
       "      <td>15</td>\n",
       "      <td>start</td>\n",
       "      <td>trial_n</td>\n",
       "      <td>NA_n</td>\n",
       "      <td>10</td>\n",
       "      <td>0</td>\n",
       "    </tr>\n",
       "  </tbody>\n",
       "</table>\n",
       "<p>240 rows × 7 columns</p>\n",
       "</div>"
      ],
      "text/plain": [
       "      subject  trialnum blockcode trialcode response  \\\n",
       "98     180930         1     start    base_q  NA_base   \n",
       "99     180930         2     start     check  NA_base   \n",
       "100    180930         3     start   trial_n   beer_n   \n",
       "101    180930         4     start   trial_n   beer_n   \n",
       "102    180930         5     start   trial_n   beer_n   \n",
       "103    180930         6     start   trial_n   beer_n   \n",
       "104    180930         7     start   trial_n     NA_n   \n",
       "105    180930         8     start   trial_n     NA_n   \n",
       "106    180930         9     start   trial_n     NA_n   \n",
       "107    180930        10     start   trial_n     NA_n   \n",
       "108    180930        11     start   trial_n   beer_n   \n",
       "109    180930        12     start   trial_n   beer_n   \n",
       "110    180930        13     start   trial_n   beer_n   \n",
       "111    180930        14     start   trial_n     NA_n   \n",
       "112    180930        15     start   trial_n     NA_n   \n",
       "113    699079         1     start    base_q  NA_base   \n",
       "114    699079         2     start     check  NA_base   \n",
       "115    699079         3     start   trial_n   beer_n   \n",
       "116    699079         4     start   trial_n   beer_n   \n",
       "117    699079         5     start   trial_n   beer_n   \n",
       "118    699079         6     start   trial_n   beer_n   \n",
       "119    699079         7     start   trial_n   beer_n   \n",
       "120    699079         8     start   trial_n     NA_n   \n",
       "121    699079         9     start   trial_n     NA_n   \n",
       "122    699079        10     start   trial_n     NA_n   \n",
       "123    699079        11     start   trial_n     NA_n   \n",
       "124    699079        12     start   trial_n     NA_n   \n",
       "125    699079        13     start   trial_n   beer_n   \n",
       "126    699079        14     start   trial_n   beer_n   \n",
       "127    699079        15     start   trial_n   beer_n   \n",
       "...       ...       ...       ...       ...      ...   \n",
       "876    853105         1     start    base_q  NA_base   \n",
       "877    853105         2     start     check  NA_base   \n",
       "878    853105         3     start   trial_n   beer_n   \n",
       "879    853105         4     start   trial_n   beer_n   \n",
       "880    853105         5     start   trial_n   beer_n   \n",
       "881    853105         6     start   trial_n   beer_n   \n",
       "882    853105         7     start   trial_n   beer_n   \n",
       "883    853105         8     start   trial_n   beer_n   \n",
       "884    853105         9     start   trial_n     NA_n   \n",
       "885    853105        10     start   trial_n   beer_n   \n",
       "886    853105        11     start   trial_n   beer_n   \n",
       "887    853105        12     start   trial_n     NA_n   \n",
       "888    853105        13     start   trial_n   beer_n   \n",
       "889    853105        14     start   trial_n     NA_n   \n",
       "890    853105        15     start   trial_n     NA_n   \n",
       "990    950720         1     start    base_q  NA_base   \n",
       "991    950720         2     start     check  NA_base   \n",
       "992    950720         3     start   trial_n   beer_n   \n",
       "993    950720         4     start   trial_n   beer_n   \n",
       "994    950720         5     start   trial_n   beer_n   \n",
       "995    950720         6     start   trial_n     NA_n   \n",
       "996    950720         7     start   trial_n     NA_n   \n",
       "997    950720         8     start   trial_n   beer_n   \n",
       "998    950720         9     start   trial_n   beer_n   \n",
       "999    950720        10     start   trial_n     NA_n   \n",
       "1000   950720        11     start   trial_n     NA_n   \n",
       "1001   950720        12     start   trial_n   beer_n   \n",
       "1002   950720        13     start   trial_n   beer_n   \n",
       "1003   950720        14     start   trial_n     NA_n   \n",
       "1004   950720        15     start   trial_n     NA_n   \n",
       "\n",
       "                                            beer_amount            NA_amount  \n",
       "98                                                    0                    0  \n",
       "99    You chose non-alcoholic beer.       Please con...  regular beer (4.5%)  \n",
       "100                                                  25                    0  \n",
       "101                                                12.5                    0  \n",
       "102                                                6.25                    0  \n",
       "103                                                3.15                    0  \n",
       "104                                                 4.7                    0  \n",
       "105                                                5.45                    0  \n",
       "106                                                5.85                    0  \n",
       "107                                                6.05                    0  \n",
       "108                                                5.95                    0  \n",
       "109                                                 5.9                    0  \n",
       "110                                                5.88                    0  \n",
       "111                                                5.89                    0  \n",
       "112                                                 5.9                    0  \n",
       "113                                                   0                    0  \n",
       "114   You chose non-alcoholic beer.       Please con...  regular beer (4.5%)  \n",
       "115                                                  25                    0  \n",
       "116                                                12.5                    0  \n",
       "117                                                6.25                    0  \n",
       "118                                                3.15                    0  \n",
       "119                                                 1.6                    0  \n",
       "120                                                2.35                    0  \n",
       "121                                                2.75                    0  \n",
       "122                                                2.95                    0  \n",
       "123                                                3.05                    0  \n",
       "124                                                 3.1                    0  \n",
       "125                                                3.08                    0  \n",
       "126                                                3.07                    0  \n",
       "127                                                3.06                    0  \n",
       "...                                                 ...                  ...  \n",
       "876                                                   0                    0  \n",
       "877   You chose non-alcoholic beer.       Please con...  regular beer (4.5%)  \n",
       "878                                                  25                    0  \n",
       "879                                                12.5                    0  \n",
       "880                                                6.25                    0  \n",
       "881                                                3.15                    0  \n",
       "882                                                 1.6                    0  \n",
       "883                                                0.85                    0  \n",
       "884                                                1.25                    0  \n",
       "885                                                1.05                    0  \n",
       "886                                                0.95                    0  \n",
       "887                                                   1                    0  \n",
       "888                                                0.98                    0  \n",
       "889                                                0.99                    0  \n",
       "890                                                0.99                    0  \n",
       "990                                                   0                    0  \n",
       "991   You chose non-alcoholic beer.       Please con...  regular beer (4.5%)  \n",
       "992                                                  25                    0  \n",
       "993                                                12.5                    0  \n",
       "994                                                6.25                    0  \n",
       "995                                                9.35                    0  \n",
       "996                                                10.9                    0  \n",
       "997                                               10.15                    0  \n",
       "998                                                9.75                    0  \n",
       "999                                                9.95                    0  \n",
       "1000                                              10.05                    0  \n",
       "1001                                                 10                    0  \n",
       "1002                                               9.98                    0  \n",
       "1003                                               9.99                    0  \n",
       "1004                                                 10                    0  \n",
       "\n",
       "[240 rows x 7 columns]"
      ]
     },
     "execution_count": 14,
     "metadata": {},
     "output_type": "execute_result"
    }
   ],
   "source": [
    "#same for NA choice datatset\n",
    "prefer_NA['beer_amount'] = prefer_NA['beer_amount'].str.replace(\"regular beer \\(4.5% ABV\\) and £\", '', regex=True)\n",
    "prefer_NA['beer_amount'] = prefer_NA['beer_amount'].str.replace(\"regular beer \\(4.5%\\)\", '0', regex=True)\n",
    "prefer_NA['NA_amount'] = prefer_NA['NA_amount'].str.replace(\"non-alcoholic beer \\(0.0% ABV\\)\", '0', regex=True)\n",
    "\n",
    "\n",
    "prefer_NA['beer_amount'] = prefer_NA['beer_amount'].str.replace(\"regular beer \\(4.5% ABV\\)       and £\", '', regex=True)\n",
    "prefer_NA\n",
    "\n",
    "#print(prefer_NA.loc[117,'beer_amount'])"
   ]
  },
  {
   "cell_type": "code",
   "execution_count": 15,
   "metadata": {
    "slideshow": {
     "slide_type": "skip"
    }
   },
   "outputs": [],
   "source": [
    "\n",
    "\n",
    "prefer_NA=prefer_NA[prefer_NA[\"trialnum\"]!=2]\n",
    "prefer_beer=prefer_beer[prefer_beer[\"trialnum\"]!=2]\n",
    "#remove all trials 2\n",
    "#remove blockcode column"
   ]
  },
  {
   "cell_type": "code",
   "execution_count": 16,
   "metadata": {
    "slideshow": {
     "slide_type": "skip"
    }
   },
   "outputs": [
    {
     "name": "stderr",
     "output_type": "stream",
     "text": [
      "C:\\Users\\Helena\\Anaconda3\\lib\\site-packages\\ipykernel_launcher.py:5: SettingWithCopyWarning: \n",
      "A value is trying to be set on a copy of a slice from a DataFrame.\n",
      "Try using .loc[row_indexer,col_indexer] = value instead\n",
      "\n",
      "See the caveats in the documentation: http://pandas.pydata.org/pandas-docs/stable/indexing.html#indexing-view-versus-copy\n",
      "  \"\"\"\n",
      "C:\\Users\\Helena\\Anaconda3\\lib\\site-packages\\ipykernel_launcher.py:6: SettingWithCopyWarning: \n",
      "A value is trying to be set on a copy of a slice from a DataFrame.\n",
      "Try using .loc[row_indexer,col_indexer] = value instead\n",
      "\n",
      "See the caveats in the documentation: http://pandas.pydata.org/pandas-docs/stable/indexing.html#indexing-view-versus-copy\n",
      "  \n"
     ]
    }
   ],
   "source": [
    "\n",
    "prefer_beer['NA_amount']=pd.to_numeric(prefer_beer['NA_amount'])\n",
    "prefer_beer['beer_amount']=pd.to_numeric(prefer_beer['beer_amount'])\n",
    "\n",
    "prefer_NA['NA_amount']=pd.to_numeric(prefer_NA['NA_amount'])\n",
    "prefer_NA['beer_amount']=pd.to_numeric(prefer_NA['beer_amount'])\n",
    "#now amount column is numeric\n",
    "\n"
   ]
  },
  {
   "cell_type": "markdown",
   "metadata": {
    "slideshow": {
     "slide_type": "slide"
    }
   },
   "source": [
    "### preference for regular beer"
   ]
  },
  {
   "cell_type": "code",
   "execution_count": 17,
   "metadata": {
    "slideshow": {
     "slide_type": "fragment"
    }
   },
   "outputs": [
    {
     "data": {
      "image/png": "[encoded data removed]",
      "text/plain": [
       "<Figure size 576x576 with 1 Axes>"
      ]
     },
     "metadata": {},
     "output_type": "display_data"
    }
   ],
   "source": [
    "\n",
    "##lineplots for each pp, trialnum on x, amount on y, hue/colour is subject identifier\n",
    "\n",
    "#sns.set_theme(style=\"darkgrid\")\n",
    "\n",
    "\n",
    "ticks=list(range(0,100,5))\n",
    "sns.set(style=\"whitegrid\")\n",
    "fig_dims = (8,8)\n",
    "fig, ax = plt.subplots(figsize=fig_dims)\n",
    "sns.lineplot(x=\"trialnum\", y=\"NA_amount\",markers=True, palette= 'Accent', hue='subject',legend=None, \n",
    "             data=prefer_beer)\n",
    "\n",
    "\n",
    "ax.set(yticks=ticks)\n",
    "ax.tick_params(labeltop=False, labelright=True)\n",
    "\n",
    "plt.savefig('fig_preferencebeer')\n",
    "\n"
   ]
  },
  {
   "cell_type": "markdown",
   "metadata": {
    "slideshow": {
     "slide_type": "slide"
    }
   },
   "source": [
    "### preference for non-alcoholic beer"
   ]
  },
  {
   "cell_type": "code",
   "execution_count": 18,
   "metadata": {
    "slideshow": {
     "slide_type": "fragment"
    }
   },
   "outputs": [
    {
     "data": {
      "image/png": "[encoded data removed]",
      "text/plain": [
       "<Figure size 576x576 with 1 Axes>"
      ]
     },
     "metadata": {},
     "output_type": "display_data"
    }
   ],
   "source": [
    "\n",
    "##lineplots for each pp, trialnum on x, amount on y, hue/colour is subject identifier\n",
    "\n",
    "#sns.set_theme(style=\"darkgrid\")\n",
    "\n",
    "ticks=list(range(0,100,5))\n",
    "sns.set(style=\"whitegrid\")\n",
    "fig_dims = (8,8)\n",
    "fig, ax = plt.subplots(figsize=fig_dims)\n",
    "sns.lineplot(x=\"trialnum\", y=\"beer_amount\",markers=True, palette= 'Accent', hue='subject',legend=None,\n",
    "             data=prefer_NA)\n",
    "ax.set(yticks=ticks)\n",
    "ax.tick_params(labeltop=False, labelright=True)\n",
    "ax.set_xlabel('trial')\n",
    "ax.set_ylabel('incentive')\n",
    "\n",
    "plt.savefig('fig_preferenceNA')\n"
   ]
  },
  {
   "cell_type": "markdown",
   "metadata": {
    "slideshow": {
     "slide_type": "skip"
    }
   },
   "source": [
    "### Progression of chocies\n",
    "\n",
    "\n",
    "| ![participants who prefer NA](fig_preferenceNA.png) | ![participants whoprefer beer](fig_preferencebeer.png) |\n",
    "| --- | --- |\n",
    "\n"
   ]
  },
  {
   "cell_type": "code",
   "execution_count": 19,
   "metadata": {
    "slideshow": {
     "slide_type": "skip"
    }
   },
   "outputs": [],
   "source": [
    "#****************************************************************************************************************************\n",
    "#merge preference datasets with  ddt\n",
    "\n",
    "merge_01=pd.merge(prefer_beer, ddt,on='subject')\n",
    "\n",
    "\n",
    "merge_02=pd.merge(merge_01, code, on='subject')\n",
    "\n",
    "\n",
    "full_beer=merge_02\n",
    "\n",
    "\n"
   ]
  },
  {
   "cell_type": "code",
   "execution_count": 20,
   "metadata": {
    "slideshow": {
     "slide_type": "skip"
    }
   },
   "outputs": [],
   "source": [
    "#merge preference datasets with  ddt\n",
    "\n",
    "merge_11=pd.merge(prefer_NA, ddt,on='subject')\n",
    "\n",
    "\n",
    "merge_12=pd.merge(merge_11, code, on='subject')\n",
    "#print(merge_12)\n",
    "\n",
    "full_NA=merge_12"
   ]
  },
  {
   "cell_type": "code",
   "execution_count": 21,
   "metadata": {
    "slideshow": {
     "slide_type": "skip"
    }
   },
   "outputs": [],
   "source": [
    "#check for missing data and remove stuff.....be careful here and check how the data looks\n",
    "\n",
    "#full_NA.isnull().sum()  #no missing values\n",
    "#full_beer.isnull().sum()"
   ]
  },
  {
   "cell_type": "code",
   "execution_count": 22,
   "metadata": {
    "slideshow": {
     "slide_type": "subslide"
    }
   },
   "outputs": [
    {
     "data": {
      "image/png": "[encoded data removed]",
      "text/plain": [
       "<Figure size 504x504 with 1 Axes>"
      ]
     },
     "metadata": {},
     "output_type": "display_data"
    }
   ],
   "source": [
    "\n",
    "# k values: distribution,min,max, average\n",
    "\n",
    "#into wide format?\n",
    "full_beer_k=full_beer[['subject', 'values.k', 'NA_amount']]\n",
    "full_beer_wide=full_beer_k.pivot_table(index='subject',\n",
    "                                    values='values.k').reset_index()\n",
    "\n",
    "#plot k distribution for pp who chose beer:\n",
    "\n",
    "fig, ax = plt.subplots(figsize=[7, 7])\n",
    "ax.hist(x=full_beer_wide['values.k'], bins= 10,density=False)\n",
    "ax.set_xlabel('k value')\n",
    "ax.set_ylabel('number of participants')\n",
    "ax.set_title(r'k distribution: pp who ptreferred beer')\n",
    "\n",
    "plt.savefig('k_dist_beer')\n",
    "\n"
   ]
  },
  {
   "cell_type": "code",
   "execution_count": 23,
   "metadata": {
    "slideshow": {
     "slide_type": "subslide"
    }
   },
   "outputs": [
    {
     "data": {
      "image/png": "[encoded data removed]",
      "text/plain": [
       "<Figure size 504x504 with 1 Axes>"
      ]
     },
     "metadata": {},
     "output_type": "display_data"
    }
   ],
   "source": [
    "# k values: distribution,min,max, average\n",
    "\n",
    "#into wide format?\n",
    "full_NA_k=full_NA[['subject', 'values.k', 'beer_amount']]\n",
    "full_NA_wide=full_NA_k.pivot_table(index='subject',\n",
    "                                    values='values.k').reset_index()\n",
    "\n",
    "#plot k distribution for pp who chose beer:\n",
    "\n",
    "fig, ax = plt.subplots(figsize=[7, 7])\n",
    "ax.hist(x=full_NA_wide['values.k'], bins= 10,density=False)\n",
    "ax.set_xlabel('k value')\n",
    "ax.set_ylabel('number of participants')\n",
    "ax.set_title(r'k distribution: pp who preferred NA beer') \n",
    "plt.savefig('k_dist_NA')"
   ]
  },
  {
   "cell_type": "markdown",
   "metadata": {
    "slideshow": {
     "slide_type": "skip"
    }
   },
   "source": [
    "|![](k_dist_beer.png) | ![](k_dist_NA.png)|\n",
    "|---|---|"
   ]
  },
  {
   "cell_type": "code",
   "execution_count": 24,
   "metadata": {
    "slideshow": {
     "slide_type": "skip"
    }
   },
   "outputs": [],
   "source": [
    "\n",
    "# distribution of final amounts --> thismust be doen separately for beer and NA datasets\n",
    "\n",
    "\n",
    "last_NA= full_NA[full_NA['trialnum']==15] #checked and is fine (duplicated....)\n",
    "last_NA=last_NA.drop_duplicates()\n"
   ]
  },
  {
   "cell_type": "markdown",
   "metadata": {
    "slideshow": {
     "slide_type": "slide"
    }
   },
   "source": [
    "### relationship between impulsivity and final incentive"
   ]
  },
  {
   "cell_type": "code",
   "execution_count": 25,
   "metadata": {
    "slideshow": {
     "slide_type": "skip"
    }
   },
   "outputs": [
    {
     "data": {
      "text/plain": [
       "<seaborn.axisgrid.FacetGrid at 0x18f55946710>"
      ]
     },
     "execution_count": 25,
     "metadata": {},
     "output_type": "execute_result"
    },
    {
     "data": {
      "image/png": "[encoded data removed]",
      "text/plain": [
       "<Figure size 360x360 with 1 Axes>"
      ]
     },
     "metadata": {},
     "output_type": "display_data"
    }
   ],
   "source": [
    "#plot relationship between last trial beer amount and values.k\n",
    "ax= sns.lmplot(data=last_NA, x=\"beer_amount\", y=\"values.k\")\n",
    "ax.set_axis_labels('£ to choose beer', 'k')\n"
   ]
  },
  {
   "cell_type": "code",
   "execution_count": 28,
   "metadata": {
    "slideshow": {
     "slide_type": "skip"
    }
   },
   "outputs": [],
   "source": [
    "\n",
    "\n",
    "\n",
    "lastTrials=[15,16]\n",
    "\n",
    "beer_last=full_beer[full_beer.trialnum.isin(lastTrials)]\n",
    "beer_last=beer_last.drop_duplicates(subset='subject', keep='last').reset_index()\n",
    "\n",
    "#last trial dataset with those who prefer beer \n",
    "\n",
    "\n",
    "    "
   ]
  },
  {
   "cell_type": "code",
   "execution_count": 29,
   "metadata": {
    "slideshow": {
     "slide_type": "subslide"
    }
   },
   "outputs": [
    {
     "data": {
      "image/png": "[encoded data removed]",
      "text/plain": [
       "<Figure size 720x360 with 2 Axes>"
      ]
     },
     "metadata": {},
     "output_type": "display_data"
    }
   ],
   "source": [
    "\n",
    "#plot relationship between last trial NA amount and values.k\n",
    "\n",
    "\n",
    "fig, (ax1, ax2) = plt.subplots(1, 2, sharey=True, figsize=(10,5))\n",
    "fig.suptitle('relationship between k and incentive ')\n",
    "ax1.set_title('prefer beer')\n",
    "ax2.set_title('prefer non-alcoholic beer')\n",
    "\n",
    "sns.regplot(ax=ax1, data=beer_last, x=\"NA_amount\", y=\"values.k\")\n",
    "ax1.set_ylabel('k')\n",
    "ax1.set_xlabel('last trial incentive')   \n",
    "\n",
    "sns.regplot(ax=ax2, data=last_NA, x=\"beer_amount\", y=\"values.k\", color= 'orange')\n",
    "ax2.set_xlabel('last trial incentive')\n",
    "ax2.set_ylabel('k')\n",
    "\n",
    "\n",
    "plt.savefig('impulsivity')\n"
   ]
  },
  {
   "cell_type": "markdown",
   "metadata": {
    "slideshow": {
     "slide_type": "skip"
    }
   },
   "source": [
    "<img src=\"impulsivity.png\">"
   ]
  },
  {
   "cell_type": "code",
   "execution_count": 30,
   "metadata": {
    "slideshow": {
     "slide_type": "skip"
    }
   },
   "outputs": [],
   "source": [
    "# pp total:33\n",
    "# first choice NA:13\n",
    "# confirmed NA preference:8\n",
    "# beer preference :25\n",
    "\n",
    "#how many pp chose incentivised choice in the lasttrial\n",
    "#-- look at last trial data in each dataset and count how many responses 'beer'/non-alcoholic beer are there\n",
    "#beer last and last_NA\n",
    "\n",
    "mot_choiceB=sum(beer_last['response']=='non-alcoholic')\n",
    "mot_choiceB_perc=(mot_choiceB/beer_last.shape[0])*100\n",
    "\n",
    "\n",
    "mot_choiceNA=sum(last_NA['response']=='beer_n')\n",
    "mot_choiceNA_perc=(mot_choiceNA/last_NA.shape[0])*100\n",
    "\n",
    "\n",
    "mot_total=mot_choiceB + mot_choiceNA\n",
    "mot_total_perc=(mot_total/(last_NA.shape[0]+beer_last.shape[0]))*100\n",
    "\n",
    "\n"
   ]
  }
 ],
 "metadata": {
  "celltoolbar": "Slideshow",
  "kernelspec": {
   "display_name": "Python 3",
   "language": "python",
   "name": "python3"
  },
  "language_info": {
   "codemirror_mode": {
    "name": "ipython",
    "version": 3
   },
   "file_extension": ".py",
   "mimetype": "text/x-python",
   "name": "python",
   "nbconvert_exporter": "python",
   "pygments_lexer": "ipython3",
   "version": "3.7.3"
  }
 },
 "nbformat": 4,
 "nbformat_minor": 2
}
